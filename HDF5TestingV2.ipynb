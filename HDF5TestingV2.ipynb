{
 "cells": [
  {
   "cell_type": "markdown",
   "metadata": {},
   "source": [
    "## Generating Events"
   ]
  },
  {
   "cell_type": "code",
   "execution_count": 1,
   "metadata": {},
   "outputs": [
    {
     "data": {
      "text/plain": [
       "[(0, array([[9, 2, 9, ..., 3, 8, 7]], dtype=int16)),\n",
       " (0.6969973287619811, array([[6, 7, 8, ..., 5, 1, 1]], dtype=int16)),\n",
       " (1.4240516551661198, array([[0, 8, 2, ..., 9, 8, 7]], dtype=int16))]"
      ]
     },
     "execution_count": 1,
     "metadata": {},
     "output_type": "execute_result"
    }
   ],
   "source": [
    "import numpy as np\n",
    "\n",
    "# Event types\n",
    "floatevent = 0\n",
    "\n",
    "# Generate event of random size within range\n",
    "# Return array representing event\n",
    "def generate_event(event_size, rand_multiplier = 10):\n",
    "    return np.array(rand_multiplier*np.random.rand(1, event_size), dtype='int16')\n",
    "\n",
    "# Return array of n events of form (time, data)\n",
    "# with times separated within dt range\n",
    "# with data within size range\n",
    "def generate_n_events(n, dt_min, dt_max, event_size):\n",
    "    t = 0\n",
    "    events = []\n",
    "    for i in range(n):\n",
    "        events.append((t, generate_event(event_size)))\n",
    "        dt = dt_min + (np.random.random() * (dt_max - dt_min))\n",
    "        t += dt\n",
    "    return events\n",
    "\n",
    "generate_n_events(3, 0.5, 0.8, 5000)"
   ]
  },
  {
   "cell_type": "markdown",
   "metadata": {},
   "source": [
    "## Simulation"
   ]
  },
  {
   "cell_type": "code",
   "execution_count": 2,
   "metadata": {},
   "outputs": [],
   "source": [
    "import time\n",
    "import h5py\n",
    "\n",
    "# Run a simulation with the given parameters\n",
    "# n_events is number of events to group together to write to hdf5\n",
    "def run_sim(n, group_size, dt_min, dt_max, event_size, file=\"out.h5\", libver = None):\n",
    "    \n",
    "    if libver:\n",
    "        hf = h5py.File('data.h5', 'w', libver = libver)\n",
    "    else:\n",
    "        hf = h5py.File('data.h5', 'w')\n",
    "    \n",
    "    events = generate_n_events(n, dt_min, dt_max, event_size)\n",
    "    \n",
    "    group = []\n",
    "    written = 0\n",
    "    count = 0\n",
    "    start = time.time()\n",
    "    # Write the events to hdf5\n",
    "    while count < n:\n",
    "        now = time.time() - start\n",
    "\n",
    "        # Next event has not fired yet\n",
    "        if events[count][0] > now:\n",
    "            # time.sleep is actually too sloww\n",
    "            # time.sleep(0.001)\n",
    "            continue\n",
    "        \n",
    "        # If the event has fired\n",
    "        if group_size == 1:\n",
    "            hf.create_dataset(\"event%d\"%(count), data=events[count][1][0])\n",
    "            written += 1\n",
    "            count += 1\n",
    "        elif group_size > 1:\n",
    "            group.append(events[count][1][0])\n",
    "            if len(group) >= group_size or count == n-1:\n",
    "                hf.create_dataset(\"events%d\"%(written), data=group)\n",
    "                written += 1\n",
    "                group = []\n",
    "            count += 1\n",
    "\n",
    "    hf.close()\n",
    "    \n",
    "    return time.time() - start"
   ]
  },
  {
   "cell_type": "markdown",
   "metadata": {},
   "source": [
    "## Confirming data from hdf5"
   ]
  },
  {
   "cell_type": "code",
   "execution_count": 3,
   "metadata": {},
   "outputs": [
    {
     "name": "stdout",
     "output_type": "stream",
     "text": [
      "5.654011011123657 s\n"
     ]
    }
   ],
   "source": [
    "n_events = 5\n",
    "print(run_sim(n_events, 2, 1, 2, 100), \"s\")"
   ]
  },
  {
   "cell_type": "code",
   "execution_count": 4,
   "metadata": {},
   "outputs": [
    {
     "name": "stdout",
     "output_type": "stream",
     "text": [
      "Keys: ['events0', 'events1', 'events2'] \n",
      "\n",
      "Group 0 size: (2, 100)\n",
      "Group 1 size: (2, 100)\n",
      "Group 2 size: (1, 100)\n",
      "\n",
      "First group: [array([0, 3, 9, 3, 4, 6, 4, 9, 3, 4, 8, 5, 6, 2, 4, 2, 1, 5, 1, 0, 0, 6,\n",
      "       2, 9, 1, 6, 3, 8, 9, 8, 2, 5, 2, 2, 5, 2, 4, 5, 3, 0, 7, 4, 9, 0,\n",
      "       3, 1, 2, 2, 6, 4, 8, 1, 6, 8, 9, 3, 2, 4, 0, 9, 7, 8, 4, 7, 3, 2,\n",
      "       3, 7, 9, 6, 8, 1, 8, 1, 0, 7, 0, 8, 4, 0, 0, 6, 0, 5, 4, 7, 2, 4,\n",
      "       2, 7, 4, 4, 3, 8, 8, 5, 5, 5, 5, 9], dtype=int16), array([2, 2, 0, 5, 4, 8, 5, 9, 0, 1, 5, 6, 4, 1, 1, 1, 1, 1, 4, 2, 8, 3,\n",
      "       3, 3, 3, 9, 7, 2, 6, 8, 0, 1, 3, 5, 9, 5, 0, 5, 4, 6, 5, 0, 1, 2,\n",
      "       0, 3, 9, 0, 9, 7, 8, 7, 5, 5, 8, 8, 9, 3, 6, 2, 1, 5, 1, 9, 0, 8,\n",
      "       4, 7, 6, 1, 6, 1, 7, 1, 6, 4, 4, 0, 0, 8, 9, 2, 9, 1, 7, 7, 3, 2,\n",
      "       9, 1, 1, 0, 9, 1, 5, 4, 8, 8, 7, 7], dtype=int16)]\n"
     ]
    }
   ],
   "source": [
    "f = h5py.File('data.h5', 'r')\n",
    "keys = list(f.keys())\n",
    "print(\"Keys:\", keys, \"\\n\")\n",
    "\n",
    "count = 0\n",
    "for key in keys:\n",
    "    data = np.array(f[key])\n",
    "    print(\"Group %d size:\"%count, data.shape)\n",
    "    count += 1\n",
    "\n",
    "print(\"\\nFirst group:\", list(f[keys[0]]))\n",
    "\n",
    "f.close()"
   ]
  },
  {
   "cell_type": "markdown",
   "metadata": {},
   "source": [
    "## Testing"
   ]
  },
  {
   "cell_type": "code",
   "execution_count": 5,
   "metadata": {},
   "outputs": [],
   "source": [
    "from pylab import plot, xlabel, ylabel, title, show\n",
    "\n",
    "def plot_results(group_sizes, run_times, event_size, n):\n",
    "    bandwidths = (event_size * 16 * n) / np.array(run_times)\n",
    "    bandwidths = bandwidths / 8E6 # b/s to MB/s\n",
    "    \n",
    "    plot(group_sizes, bandwidths, 'r.')\n",
    "    title(\"Group Size vs Bandwidth\")\n",
    "    xlabel(\"Group size (events)\")\n",
    "    ylabel(\"Bandwidth (MB/s)\")\n",
    "    show()"
   ]
  },
  {
   "cell_type": "markdown",
   "metadata": {},
   "source": [
    "### Does libver=\"latest\" improve performance?"
   ]
  },
  {
   "cell_type": "markdown",
   "metadata": {},
   "source": [
    "#### libver default"
   ]
  },
  {
   "cell_type": "code",
   "execution_count": 6,
   "metadata": {},
   "outputs": [
    {
     "data": {
      "image/png": "[encoded data removed]",
      "text/plain": [
       "<Figure size 432x288 with 1 Axes>"
      ]
     },
     "metadata": {
      "needs_background": "light"
     },
     "output_type": "display_data"
    }
   ],
   "source": [
    "# Intitially test with constant dt\n",
    "dt_min = 1/10000.0\n",
    "dt_max = 1/10000.0\n",
    "event_size = 5000\n",
    "\n",
    "group_sizes = [1, 2, 3, 4, 5, 7, 10, 15, 20, 30, 40, 50, 60, 70]\n",
    "\n",
    "# Randomize order of group size\n",
    "np.random.shuffle(group_sizes)\n",
    "\n",
    "run_times = []\n",
    "\n",
    "# 300000 events (~30 seconds)\n",
    "n = 300000\n",
    "for gs in group_sizes:\n",
    "    run_times.append(run_sim(n, gs, dt_min, dt_max, event_size))\n",
    "\n",
    "plot_results(group_sizes, run_times, event_size, n)"
   ]
  },
  {
   "cell_type": "markdown",
   "metadata": {},
   "source": [
    "#### libver = \"latest\""
   ]
  },
  {
   "cell_type": "code",
   "execution_count": 7,
   "metadata": {},
   "outputs": [
    {
     "data": {
      "image/png": "[encoded data removed]",
      "text/plain": [
       "<Figure size 432x288 with 1 Axes>"
      ]
     },
     "metadata": {
      "needs_background": "light"
     },
     "output_type": "display_data"
    }
   ],
   "source": [
    "# Intitially test with constant dt\n",
    "dt_min = 1/10000.0\n",
    "dt_max = 1/10000.0\n",
    "event_size = 5000\n",
    "\n",
    "group_sizes = [1, 2, 3, 4, 5, 7, 10, 15, 20, 30, 40, 50, 60, 70]\n",
    "\n",
    "# Randomize order of group size\n",
    "np.random.shuffle(group_sizes)\n",
    "\n",
    "run_times = []\n",
    "\n",
    "# 300000 events (~30 seconds)\n",
    "n = 300000\n",
    "for gs in group_sizes:\n",
    "    run_times.append(run_sim(n, gs, dt_min, dt_max, event_size, libver=\"latest\"))\n",
    "\n",
    "plot_results(group_sizes, run_times, event_size, n)"
   ]
  },
  {
   "cell_type": "markdown",
   "metadata": {},
   "source": [
    "## How fast can we get HDF5 to go?\n",
    "To test this, we will implement a new simulation. Now, we will attempt to write a set number of events to disk as fast as possible (blast to disk). From this, we will determine the total size of the events written, and divide it by the time in order to determine throughput.\n",
    "\n",
    "Also, notably, we are now using one dataset that is resized."
   ]
  },
  {
   "cell_type": "code",
   "execution_count": 125,
   "metadata": {},
   "outputs": [],
   "source": [
    "import h5py_cache as h5c\n",
    "\n",
    "# Default chunk_cache_memsize is 1024*2*500 = 500MB\n",
    "def run_sim_blast(n, event_size, chunk_shape, group_size=1000, file=\"out.h5\", libver = None, chunk_cache_mem_size=1024*2*200):\n",
    "    \n",
    "    if libver:\n",
    "        hf = h5c.File('data.h5', 'w', libver = libver, chunk_cache_mem_size=chunk_cache_mem_size)\n",
    "    else:\n",
    "        hf = h5c.File('data.h5', 'w', chunk_cache_mem_size=chunk_cache_mem_size)\n",
    "    \n",
    "    event = np.arange(event_size)\n",
    "    \n",
    "    shape = (1, event_size)\n",
    "    maxshape = (None, event_size)\n",
    "    # Now we are only using 1 dataset that is resized\n",
    "    d = hf.create_dataset(\"all_events\", shape=shape, maxshape = maxshape, chunks=chunk_shape)\n",
    "    \n",
    "    \n",
    "    group = []\n",
    "    start = time.time()\n",
    "    \n",
    "    # Write the events to hdf5\n",
    "    for i in range(n):\n",
    "        if i != 0 and i % group_size == 0:\n",
    "            d.resize((i + group_size, event_size))\n",
    "            d[i-group_size:i, :] = group\n",
    "            group = []\n",
    "\n",
    "        group.append(event)\n",
    "    \n",
    "    if len(group) > 0:\n",
    "        d[i-len(group)+1:i+1, :] = group\n",
    "    \n",
    "    hf.close()\n",
    "    \n",
    "    runtime = time.time() - start\n",
    "    throughput = n * event_size * 16 / runtime / 8E6\n",
    "    return runtime, throughput"
   ]
  },
  {
   "cell_type": "markdown",
   "metadata": {},
   "source": [
    "#### Confirming data from HDF5 "
   ]
  },
  {
   "cell_type": "code",
   "execution_count": 126,
   "metadata": {},
   "outputs": [
    {
     "name": "stdout",
     "output_type": "stream",
     "text": [
      "(0.0030999183654785156, 32.25891401322873)\n"
     ]
    }
   ],
   "source": [
    "print(run_sim_blast(10, 5000, (20, 5000), libver = \"latest\", group_size = 5))"
   ]
  },
  {
   "cell_type": "code",
   "execution_count": 127,
   "metadata": {},
   "outputs": [
    {
     "name": "stdout",
     "output_type": "stream",
     "text": [
      "Keys: ['all_events'] \n",
      "\n",
      "Size: (10, 5000)\n",
      "DATA:  [array([0.000e+00, 1.000e+00, 2.000e+00, ..., 4.997e+03, 4.998e+03,\n",
      "       4.999e+03], dtype=float32), array([0.000e+00, 1.000e+00, 2.000e+00, ..., 4.997e+03, 4.998e+03,\n",
      "       4.999e+03], dtype=float32), array([0.000e+00, 1.000e+00, 2.000e+00, ..., 4.997e+03, 4.998e+03,\n",
      "       4.999e+03], dtype=float32), array([0.000e+00, 1.000e+00, 2.000e+00, ..., 4.997e+03, 4.998e+03,\n",
      "       4.999e+03], dtype=float32), array([0.000e+00, 1.000e+00, 2.000e+00, ..., 4.997e+03, 4.998e+03,\n",
      "       4.999e+03], dtype=float32), array([0.000e+00, 1.000e+00, 2.000e+00, ..., 4.997e+03, 4.998e+03,\n",
      "       4.999e+03], dtype=float32), array([0.000e+00, 1.000e+00, 2.000e+00, ..., 4.997e+03, 4.998e+03,\n",
      "       4.999e+03], dtype=float32), array([0.000e+00, 1.000e+00, 2.000e+00, ..., 4.997e+03, 4.998e+03,\n",
      "       4.999e+03], dtype=float32), array([0.000e+00, 1.000e+00, 2.000e+00, ..., 4.997e+03, 4.998e+03,\n",
      "       4.999e+03], dtype=float32), array([0.000e+00, 1.000e+00, 2.000e+00, ..., 4.997e+03, 4.998e+03,\n",
      "       4.999e+03], dtype=float32)]\n"
     ]
    }
   ],
   "source": [
    "f = h5py.File('data.h5', 'r')\n",
    "keys = list(f.keys())\n",
    "print(\"Keys:\", keys, \"\\n\")\n",
    "\n",
    "for key in keys:\n",
    "    data = np.array(f[key])\n",
    "    print(\"Size:\", data.shape)\n",
    "\n",
    "print(\"DATA: \", list(f[keys[0]]))\n",
    "\n",
    "f.close()"
   ]
  },
  {
   "cell_type": "markdown",
   "metadata": {},
   "source": [
    "### Testing\n",
    "\n",
    "#### Testing different group size"
   ]
  },
  {
   "cell_type": "code",
   "execution_count": 128,
   "metadata": {},
   "outputs": [
    {
     "name": "stdout",
     "output_type": "stream",
     "text": [
      "Group size 1 throughput: 28.296173857171713 MB/s\n"
     ]
    }
   ],
   "source": [
    "runtime, throughput = run_sim_blast(300000, 5000, (20, 5000), libver = \"latest\", group_size = 1)\n",
    "\n",
    "print(\"Group size 1 throughput:\", throughput, \"MB/s\")"
   ]
  },
  {
   "cell_type": "code",
   "execution_count": 129,
   "metadata": {},
   "outputs": [
    {
     "name": "stdout",
     "output_type": "stream",
     "text": [
      "Group size 10 throughput: 178.60901934020038 MB/s\n"
     ]
    }
   ],
   "source": [
    "runtime, throughput = run_sim_blast(300000, 5000, (20, 5000), libver = \"latest\", group_size = 10)\n",
    "\n",
    "print(\"Group size 10 throughput:\", throughput, \"MB/s\")"
   ]
  },
  {
   "cell_type": "code",
   "execution_count": 130,
   "metadata": {},
   "outputs": [
    {
     "name": "stdout",
     "output_type": "stream",
     "text": [
      "Group size 50 throughput: 279.595531781955 MB/s\n"
     ]
    }
   ],
   "source": [
    "runtime, throughput = run_sim_blast(300000, 5000, (20, 5000), libver = \"latest\", group_size = 50)\n",
    "\n",
    "print(\"Group size 50 throughput:\", throughput, \"MB/s\")"
   ]
  },
  {
   "cell_type": "code",
   "execution_count": 131,
   "metadata": {},
   "outputs": [
    {
     "name": "stdout",
     "output_type": "stream",
     "text": [
      "Group size 100 throughput: 275.76783898148886 MB/s\n"
     ]
    }
   ],
   "source": [
    "runtime, throughput = run_sim_blast(300000, 5000, (20, 5000), libver = \"latest\", group_size = 100)\n",
    "\n",
    "print(\"Group size 100 throughput:\", throughput, \"MB/s\")"
   ]
  },
  {
   "cell_type": "code",
   "execution_count": 132,
   "metadata": {},
   "outputs": [
    {
     "name": "stdout",
     "output_type": "stream",
     "text": [
      "Group size 300 throughput: 294.5702157019126 MB/s\n"
     ]
    }
   ],
   "source": [
    "runtime, throughput = run_sim_blast(300000, 5000, (20, 5000), libver = \"latest\", group_size = 300)\n",
    "\n",
    "print(\"Group size 300 throughput:\", throughput, \"MB/s\")"
   ]
  },
  {
   "cell_type": "code",
   "execution_count": 133,
   "metadata": {},
   "outputs": [
    {
     "name": "stdout",
     "output_type": "stream",
     "text": [
      "Group size 500 throughput: 319.40401733002926 MB/s\n"
     ]
    }
   ],
   "source": [
    "runtime, throughput = run_sim_blast(300000, 5000, (20, 5000), libver = \"latest\", group_size = 500)\n",
    "\n",
    "print(\"Group size 500 throughput:\", throughput, \"MB/s\")"
   ]
  },
  {
   "cell_type": "code",
   "execution_count": 134,
   "metadata": {},
   "outputs": [
    {
     "name": "stdout",
     "output_type": "stream",
     "text": [
      "Group size 1000 throughput: 335.7505066244548 MB/s\n"
     ]
    }
   ],
   "source": [
    "runtime, throughput = run_sim_blast(300000, 5000, (20, 5000), libver = \"latest\", group_size = 1000)\n",
    "\n",
    "print(\"Group size 1000 throughput:\", throughput, \"MB/s\")"
   ]
  },
  {
   "cell_type": "code",
   "execution_count": 135,
   "metadata": {},
   "outputs": [
    {
     "name": "stdout",
     "output_type": "stream",
     "text": [
      "Group size 1000 throughput: 337.77057939964624 MB/s\n"
     ]
    }
   ],
   "source": [
    "runtime, throughput = run_sim_blast(300000, 5000, (20, 5000), libver = \"latest\", group_size = 1500)\n",
    "\n",
    "print(\"Group size 1000 throughput:\", throughput, \"MB/s\")"
   ]
  },
  {
   "cell_type": "code",
   "execution_count": 136,
   "metadata": {},
   "outputs": [
    {
     "name": "stdout",
     "output_type": "stream",
     "text": [
      "Group size 1000 throughput: 176.386473189412 MB/s\n"
     ]
    }
   ],
   "source": [
    "runtime, throughput = run_sim_blast(300000, 5000, (20, 5000), libver = \"latest\", group_size = 10000)\n",
    "\n",
    "print(\"Group size 1000 throughput:\", throughput, \"MB/s\")\n",
    "\n",
    "# is this poor performance due to slowdown with array appending?"
   ]
  },
  {
   "cell_type": "markdown",
   "metadata": {},
   "source": [
    "#### Testing different chunk shapes"
   ]
  },
  {
   "cell_type": "code",
   "execution_count": 145,
   "metadata": {},
   "outputs": [
    {
     "name": "stdout",
     "output_type": "stream",
     "text": [
      "Chunk shape (1, 5000) throughput: 90.10176594108519 MB/s\n"
     ]
    }
   ],
   "source": [
    "runtime, throughput = run_sim_blast(300000, 5000, (1, 5000), libver = \"latest\", group_size = 1500)\n",
    "\n",
    "print(\"Chunk shape (1, 5000) throughput:\", throughput, \"MB/s\")"
   ]
  },
  {
   "cell_type": "code",
   "execution_count": 146,
   "metadata": {},
   "outputs": [
    {
     "name": "stdout",
     "output_type": "stream",
     "text": [
      "Chunk shape (10, 5000) throughput: 259.3803830747087 MB/s\n"
     ]
    }
   ],
   "source": [
    "runtime, throughput = run_sim_blast(300000, 5000, (10, 5000), libver = \"latest\", group_size = 1500)\n",
    "\n",
    "print(\"Chunk shape (10, 5000) throughput:\", throughput, \"MB/s\")"
   ]
  },
  {
   "cell_type": "code",
   "execution_count": 147,
   "metadata": {},
   "outputs": [
    {
     "name": "stdout",
     "output_type": "stream",
     "text": [
      "Chunk shape (15, 5000) throughput: 303.97273130770236 MB/s\n"
     ]
    }
   ],
   "source": [
    "runtime, throughput = run_sim_blast(300000, 5000, (15, 5000), libver = \"latest\", group_size = 1500)\n",
    "\n",
    "print(\"Chunk shape (15, 5000) throughput:\", throughput, \"MB/s\")"
   ]
  },
  {
   "cell_type": "code",
   "execution_count": 150,
   "metadata": {},
   "outputs": [
    {
     "name": "stdout",
     "output_type": "stream",
     "text": [
      "Chunk shape (25, 5000) throughput: 300.3516165035619 MB/s\n"
     ]
    }
   ],
   "source": [
    "runtime, throughput = run_sim_blast(300000, 5000, (25, 5000), libver = \"latest\", group_size = 1500)\n",
    "\n",
    "print(\"Chunk shape (25, 5000) throughput:\", throughput, \"MB/s\")"
   ]
  },
  {
   "cell_type": "code",
   "execution_count": 152,
   "metadata": {},
   "outputs": [
    {
     "name": "stdout",
     "output_type": "stream",
     "text": [
      "Chunk shape (50, 5000) throughput: 293.0553432935738 MB/s\n"
     ]
    }
   ],
   "source": [
    "runtime, throughput = run_sim_blast(300000, 5000, (50, 5000), libver = \"latest\", group_size = 1500)\n",
    "\n",
    "print(\"Chunk shape (50, 5000) throughput:\", throughput, \"MB/s\")"
   ]
  }
 ],
 "metadata": {
  "kernelspec": {
   "display_name": "Python 3",
   "language": "python",
   "name": "python3"
  },
  "language_info": {
   "codemirror_mode": {
    "name": "ipython",
    "version": 3
   },
   "file_extension": ".py",
   "mimetype": "text/x-python",
   "name": "python",
   "nbconvert_exporter": "python",
   "pygments_lexer": "ipython3",
   "version": "3.7.1"
  }
 },
 "nbformat": 4,
 "nbformat_minor": 2
}
