{
 "cells": [
  {
   "cell_type": "markdown",
   "metadata": {},
   "source": [
    "### Generating Events"
   ]
  },
  {
   "cell_type": "code",
   "execution_count": 4,
   "metadata": {},
   "outputs": [
    {
     "data": {
      "text/plain": [
       "[6, 6, 8]"
      ]
     },
     "execution_count": 4,
     "metadata": {},
     "output_type": "execute_result"
    }
   ],
   "source": [
    "import random\n",
    "\n",
    "# Event types\n",
    "floatevent = 0\n",
    "intevent = 1\n",
    "\n",
    "# Generate event of arbitrary size within range\n",
    "# Return\n",
    "def generate_event(min_size, max_size, event_type, rand_multiplier = 10):\n",
    "    event_size = random.randint(min_size, max_size)\n",
    "    \n",
    "    if event_type == intevent:\n",
    "        return [int(random.random() * rand_multiplier) for i in range(event_size)]\n",
    "    else:\n",
    "        return [random.random() * rand_multiplier for i in range(event_size)]\n",
    "\n",
    "generate_event(3, 5, 1)"
   ]
  }
 ],
 "metadata": {
  "kernelspec": {
   "display_name": "Python 3",
   "language": "python",
   "name": "python3"
  },
  "language_info": {
   "codemirror_mode": {
    "name": "ipython",
    "version": 3
   },
   "file_extension": ".py",
   "mimetype": "text/x-python",
   "name": "python",
   "nbconvert_exporter": "python",
   "pygments_lexer": "ipython3",
   "version": "3.7.1"
  }
 },
 "nbformat": 4,
 "nbformat_minor": 2
}
