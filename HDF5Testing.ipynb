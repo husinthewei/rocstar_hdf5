{
 "cells": [
  {
   "cell_type": "markdown",
   "metadata": {},
   "source": [
    "### Generating Events"
   ]
  },
  {
   "cell_type": "code",
   "execution_count": 1,
   "metadata": {},
   "outputs": [
    {
     "data": {
      "text/plain": [
       "[(0, array([[0, 8, 2, ..., 9, 4, 5]], dtype=int16)),\n",
       " (0.7477541406208948, array([[4, 8, 6, ..., 4, 7, 2]], dtype=int16)),\n",
       " (1.2635961136026073, array([[9, 6, 8, ..., 1, 1, 4]], dtype=int16))]"
      ]
     },
     "execution_count": 1,
     "metadata": {},
     "output_type": "execute_result"
    }
   ],
   "source": [
    "import numpy as np\n",
    "\n",
    "# Event types\n",
    "floatevent = 0\n",
    "\n",
    "# Generate event of random size within range\n",
    "# Return array representing event\n",
    "def generate_event(event_size, rand_multiplier = 10):\n",
    "    return np.array(rand_multiplier*np.random.rand(1, event_size), dtype='int16')\n",
    "\n",
    "# Return array of n events of form (time, data)\n",
    "# with times separated within dt range\n",
    "# with data within size range\n",
    "def generate_n_events(n, dt_min, dt_max, event_size):\n",
    "    t = 0\n",
    "    events = []\n",
    "    for i in range(n):\n",
    "        events.append((t, generate_event(event_size)))\n",
    "        dt = dt_min + (np.random.random() * (dt_max - dt_min))\n",
    "        t += dt\n",
    "    return events\n",
    "\n",
    "generate_n_events(3, 0.5, 0.8, 5000)"
   ]
  },
  {
   "cell_type": "markdown",
   "metadata": {},
   "source": [
    "### Simulation"
   ]
  },
  {
   "cell_type": "code",
   "execution_count": 6,
   "metadata": {},
   "outputs": [],
   "source": [
    "import time\n",
    "import h5py\n",
    "\n",
    "# Run a simulation with the given parameters\n",
    "# n_events is number of events to group together to write to hdf5\n",
    "def run_sim(n, group_size, dt_min, dt_max, event_size, file=\"out.h5\"):\n",
    "    hf = h5py.File('data.h5', 'w')\n",
    "    \n",
    "    events = generate_n_events(n, dt_min, dt_max, event_size)\n",
    "    \n",
    "    group = []\n",
    "    written = 0\n",
    "    count = 0\n",
    "    start = time.time()\n",
    "    # Write the events to hdf5\n",
    "    while count < n:\n",
    "        now = time.time() - start\n",
    "\n",
    "        # Next event has not fired yet\n",
    "        if events[count][0] > now:\n",
    "            time.sleep(0.01)\n",
    "            continue\n",
    "        \n",
    "        # If the event has fired\n",
    "        if group_size == 1:\n",
    "            hf.create_dataset(\"event%d\"%(count), data=events[count][1][0])\n",
    "            written += 1\n",
    "            count += 1\n",
    "        elif group_size > 1:\n",
    "            group.append(events[count][1][0])\n",
    "            if len(group) >= group_size or count == n-1:\n",
    "                hf.create_dataset(\"events%d\"%(written), data=group)\n",
    "                written += 1\n",
    "                group = []\n",
    "            count += 1\n",
    "\n",
    "    hf.close()\n",
    "    \n",
    "    return time.time() - start"
   ]
  },
  {
   "cell_type": "markdown",
   "metadata": {},
   "source": [
    "### Confirming data from hdf5"
   ]
  },
  {
   "cell_type": "code",
   "execution_count": 7,
   "metadata": {},
   "outputs": [
    {
     "name": "stdout",
     "output_type": "stream",
     "text": [
      "5.369687080383301 s\n"
     ]
    }
   ],
   "source": [
    "n_events = 5\n",
    "print(run_sim(n_events, 2, 1, 2, 100), \"s\")"
   ]
  },
  {
   "cell_type": "code",
   "execution_count": 19,
   "metadata": {},
   "outputs": [
    {
     "name": "stdout",
     "output_type": "stream",
     "text": [
      "Keys: ['events0', 'events1', 'events2'] \n",
      "\n",
      "Group 0 size: (2, 100)\n",
      "Group 1 size: (2, 100)\n",
      "Group 2 size: (1, 100)\n",
      "First group: [array([6, 2, 6, 0, 0, 6, 0, 9, 0, 1, 9, 1, 3, 7, 7, 6, 4, 1, 5, 9, 3, 0,\n",
      "       3, 5, 7, 8, 9, 8, 7, 8, 3, 4, 4, 4, 9, 5, 9, 3, 4, 5, 8, 8, 0, 1,\n",
      "       3, 3, 4, 1, 0, 9, 6, 2, 2, 4, 0, 9, 1, 7, 7, 7, 7, 9, 6, 0, 8, 7,\n",
      "       9, 8, 8, 3, 0, 6, 7, 7, 9, 5, 5, 4, 0, 5, 7, 7, 6, 9, 4, 8, 6, 1,\n",
      "       4, 6, 9, 2, 1, 7, 5, 2, 3, 8, 0, 2], dtype=int16)]\n"
     ]
    }
   ],
   "source": [
    "f = h5py.File('data.h5', 'r')\n",
    "keys = list(f.keys())\n",
    "print(\"Keys:\", keys, \"\\n\")\n",
    "\n",
    "count = 0\n",
    "for key in keys:\n",
    "    data = np.array(f[key])\n",
    "    print(\"Group %d size:\"%count, data.shape)\n",
    "    count += 1\n",
    "\n",
    "print(\"First group:\", list(f[key]))\n",
    "\n",
    "f.close()\n",
    "# Get the data"
   ]
  },
  {
   "cell_type": "markdown",
   "metadata": {},
   "source": [
    "### Testing"
   ]
  }
 ],
 "metadata": {
  "kernelspec": {
   "display_name": "Python 3",
   "language": "python",
   "name": "python3"
  },
  "language_info": {
   "codemirror_mode": {
    "name": "ipython",
    "version": 3
   },
   "file_extension": ".py",
   "mimetype": "text/x-python",
   "name": "python",
   "nbconvert_exporter": "python",
   "pygments_lexer": "ipython3",
   "version": "3.7.1"
  }
 },
 "nbformat": 4,
 "nbformat_minor": 2
}
