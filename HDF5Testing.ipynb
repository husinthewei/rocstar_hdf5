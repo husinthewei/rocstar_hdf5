{
 "cells": [
  {
   "cell_type": "markdown",
   "metadata": {},
   "source": [
    "## Generating Events"
   ]
  },
  {
   "cell_type": "code",
   "execution_count": 1,
   "metadata": {},
   "outputs": [
    {
     "data": {
      "text/plain": [
       "[(0, array([[4, 3, 3, ..., 1, 8, 8]], dtype=int16)),\n",
       " (0.50729023372637, array([[4, 4, 2, ..., 6, 5, 9]], dtype=int16)),\n",
       " (1.101198357713693, array([[5, 2, 1, ..., 4, 7, 1]], dtype=int16))]"
      ]
     },
     "execution_count": 1,
     "metadata": {},
     "output_type": "execute_result"
    }
   ],
   "source": [
    "import numpy as np\n",
    "\n",
    "# Event types\n",
    "floatevent = 0\n",
    "\n",
    "# Generate event of random size within range\n",
    "# Return array representing event\n",
    "def generate_event(event_size, rand_multiplier = 10):\n",
    "    return np.array(rand_multiplier*np.random.rand(1, event_size), dtype='int16')\n",
    "\n",
    "# Return array of n events of form (time, data)\n",
    "# with times separated within dt range\n",
    "# with data within size range\n",
    "def generate_n_events(n, dt_min, dt_max, event_size):\n",
    "    t = 0\n",
    "    events = []\n",
    "    for i in range(n):\n",
    "        events.append((t, generate_event(event_size)))\n",
    "        dt = dt_min + (np.random.random() * (dt_max - dt_min))\n",
    "        t += dt\n",
    "    return events\n",
    "\n",
    "generate_n_events(3, 0.5, 0.8, 5000)"
   ]
  },
  {
   "cell_type": "markdown",
   "metadata": {},
   "source": [
    "### Simulation"
   ]
  },
  {
   "cell_type": "code",
   "execution_count": 2,
   "metadata": {},
   "outputs": [],
   "source": [
    "import time\n",
    "import h5py\n",
    "\n",
    "# Run a simulation with the given parameters\n",
    "# n_events is number of events to group together to write to hdf5\n",
    "def run_sim(n, group_size, dt_min, dt_max, event_size, file=\"out.h5\"):\n",
    "    hf = h5py.File('data.h5', 'w')\n",
    "    \n",
    "    events = generate_n_events(n, dt_min, dt_max, event_size)\n",
    "    \n",
    "    group = []\n",
    "    written = 0\n",
    "    count = 0\n",
    "    start = time.time()\n",
    "    # Write the events to hdf5\n",
    "    while count < n:\n",
    "        now = time.time() - start\n",
    "\n",
    "        # Next event has not fired yet\n",
    "        if events[count][0] > now:\n",
    "            # time.sleep is actually too sloww\n",
    "            # time.sleep(0.001)\n",
    "            continue\n",
    "        \n",
    "        # If the event has fired\n",
    "        if group_size == 1:\n",
    "            hf.create_dataset(\"event%d\"%(count), data=events[count][1][0])\n",
    "            written += 1\n",
    "            count += 1\n",
    "        elif group_size > 1:\n",
    "            group.append(events[count][1][0])\n",
    "            if len(group) >= group_size or count == n-1:\n",
    "                hf.create_dataset(\"events%d\"%(written), data=group)\n",
    "                written += 1\n",
    "                group = []\n",
    "            count += 1\n",
    "\n",
    "    hf.close()\n",
    "    \n",
    "    return time.time() - start"
   ]
  },
  {
   "cell_type": "markdown",
   "metadata": {},
   "source": [
    "## Confirming data from hdf5"
   ]
  },
  {
   "cell_type": "code",
   "execution_count": 3,
   "metadata": {},
   "outputs": [
    {
     "name": "stdout",
     "output_type": "stream",
     "text": [
      "5.486940860748291 s\n"
     ]
    }
   ],
   "source": [
    "n_events = 5\n",
    "print(run_sim(n_events, 2, 1, 2, 100), \"s\")"
   ]
  },
  {
   "cell_type": "code",
   "execution_count": 4,
   "metadata": {},
   "outputs": [
    {
     "name": "stdout",
     "output_type": "stream",
     "text": [
      "Keys: ['events0', 'events1', 'events2'] \n",
      "\n",
      "Group 0 size: (2, 100)\n",
      "Group 1 size: (2, 100)\n",
      "Group 2 size: (1, 100)\n",
      "\n",
      "First group: [array([0, 3, 1, 6, 4, 2, 7, 9, 6, 1, 5, 4, 8, 9, 5, 2, 5, 7, 6, 9, 8, 1,\n",
      "       1, 3, 9, 8, 4, 3, 2, 7, 7, 3, 4, 4, 5, 8, 0, 8, 3, 0, 8, 8, 4, 8,\n",
      "       3, 2, 3, 7, 0, 8, 6, 4, 2, 6, 1, 6, 3, 5, 6, 9, 8, 1, 7, 4, 2, 9,\n",
      "       1, 6, 6, 3, 9, 3, 9, 0, 8, 7, 2, 2, 9, 2, 8, 0, 1, 8, 4, 6, 8, 8,\n",
      "       3, 4, 6, 0, 4, 1, 0, 8, 7, 3, 7, 4], dtype=int16), array([7, 4, 4, 4, 3, 5, 6, 9, 0, 3, 7, 2, 8, 5, 8, 4, 7, 1, 4, 8, 7, 8,\n",
      "       2, 1, 6, 9, 4, 6, 9, 5, 3, 0, 0, 4, 2, 0, 4, 0, 8, 9, 9, 8, 7, 4,\n",
      "       1, 1, 7, 6, 4, 8, 8, 7, 2, 8, 4, 7, 3, 1, 0, 1, 4, 6, 0, 8, 6, 0,\n",
      "       3, 6, 2, 3, 8, 9, 2, 6, 7, 6, 1, 5, 1, 2, 5, 1, 2, 9, 3, 7, 4, 2,\n",
      "       4, 8, 9, 9, 8, 6, 3, 7, 8, 3, 4, 2], dtype=int16)]\n"
     ]
    }
   ],
   "source": [
    "f = h5py.File('data.h5', 'r')\n",
    "keys = list(f.keys())\n",
    "print(\"Keys:\", keys, \"\\n\")\n",
    "\n",
    "count = 0\n",
    "for key in keys:\n",
    "    data = np.array(f[key])\n",
    "    print(\"Group %d size:\"%count, data.shape)\n",
    "    count += 1\n",
    "\n",
    "print(\"\\nFirst group:\", list(f[keys[0]]))\n",
    "\n",
    "f.close()"
   ]
  },
  {
   "cell_type": "markdown",
   "metadata": {},
   "source": [
    "## Testing"
   ]
  },
  {
   "cell_type": "markdown",
   "metadata": {},
   "source": [
    "### Group Size vs BW for dt = 1/4000 seconds and 1/10000 seconds"
   ]
  },
  {
   "cell_type": "code",
   "execution_count": 5,
   "metadata": {},
   "outputs": [],
   "source": [
    "from pylab import plot, xlabel, ylabel, title, show\n",
    "\n",
    "def plot_results(group_sizes, run_times, event_size, n):\n",
    "    bandwidths = (event_size * 16 * n) / np.array(run_times)\n",
    "    bandwidths = bandwidths / 8E6 # b/s to MB/s\n",
    "    \n",
    "    plot(group_sizes, bandwidths, 'r.')\n",
    "    title(\"Group Size vs Bandwidth\")\n",
    "    xlabel(\"Group size (events)\")\n",
    "    ylabel(\"Bandwidth (MB/s)\")\n",
    "    show()"
   ]
  },
  {
   "cell_type": "code",
   "execution_count": 6,
   "metadata": {
    "scrolled": true
   },
   "outputs": [
    {
     "data": {
      "image/png": "[encoded data removed]",
      "text/plain": [
       "<Figure size 432x288 with 1 Axes>"
      ]
     },
     "metadata": {
      "needs_background": "light"
     },
     "output_type": "display_data"
    }
   ],
   "source": [
    "# Intitially test with constant dt\n",
    "dt_min = 1/4000.0\n",
    "dt_max = 1/4000.0\n",
    "event_size = 5000\n",
    "\n",
    "group_sizes = [1, 2, 3, 4, 5, 7, 10, 15, 20, 30, 40, 50, 60, 70]\n",
    "\n",
    "# Randomize order of group size\n",
    "np.random.shuffle(group_sizes)\n",
    "\n",
    "run_times = []\n",
    "\n",
    "# 16000 events (~4 seconds)\n",
    "n = 16000\n",
    "\n",
    "for gs in group_sizes:\n",
    "    run_times.append(run_sim(n, gs, dt_min, dt_max, event_size))\n",
    "\n",
    "plot_results(group_sizes, run_times, event_size, n)"
   ]
  },
  {
   "cell_type": "code",
   "execution_count": 7,
   "metadata": {},
   "outputs": [
    {
     "data": {
      "image/png": "[encoded data removed]",
      "text/plain": [
       "<Figure size 432x288 with 1 Axes>"
      ]
     },
     "metadata": {
      "needs_background": "light"
     },
     "output_type": "display_data"
    }
   ],
   "source": [
    "# Intitially test with constant dt\n",
    "dt_min = 1/10000.0\n",
    "dt_max = 1/10000.0\n",
    "event_size = 5000\n",
    "\n",
    "group_sizes = [1, 2, 3, 4, 5, 7, 10, 15, 20, 30, 40, 50, 60, 70]\n",
    "\n",
    "# Randomize order of group size\n",
    "np.random.shuffle(group_sizes)\n",
    "\n",
    "run_times = []\n",
    "\n",
    "# 40000 events (~4 seconds)\n",
    "n = 40000\n",
    "for gs in group_sizes:\n",
    "    run_times.append(run_sim(n, gs, dt_min, dt_max, event_size))\n",
    "\n",
    "plot_results(group_sizes, run_times, event_size, n)"
   ]
  },
  {
   "cell_type": "markdown",
   "metadata": {},
   "source": [
    "### Trying 30 seconds per simulation"
   ]
  },
  {
   "cell_type": "code",
   "execution_count": 8,
   "metadata": {},
   "outputs": [
    {
     "data": {
      "image/png": "[encoded data removed]",
      "text/plain": [
       "<Figure size 432x288 with 1 Axes>"
      ]
     },
     "metadata": {
      "needs_background": "light"
     },
     "output_type": "display_data"
    }
   ],
   "source": [
    "# Intitially test with constant dt\n",
    "dt_min = 1/4000.0\n",
    "dt_max = 1/4000.0\n",
    "event_size = 5000\n",
    "\n",
    "group_sizes = [1, 2, 3, 4, 5, 7, 10, 15, 20, 30, 40, 50, 60, 70]\n",
    "\n",
    "# Randomize order of group size\n",
    "np.random.shuffle(group_sizes)\n",
    "\n",
    "run_times = []\n",
    "\n",
    "# 120000 events (~30 seconds)\n",
    "n = 120000\n",
    "for gs in group_sizes:\n",
    "    run_times.append(run_sim(n, gs, dt_min, dt_max, event_size))\n",
    "\n",
    "plot_results(group_sizes, run_times, event_size, n)"
   ]
  },
  {
   "cell_type": "code",
   "execution_count": 9,
   "metadata": {},
   "outputs": [
    {
     "data": {
      "image/png": "[encoded data removed]",
      "text/plain": [
       "<Figure size 432x288 with 1 Axes>"
      ]
     },
     "metadata": {
      "needs_background": "light"
     },
     "output_type": "display_data"
    }
   ],
   "source": [
    "# Intitially test with constant dt\n",
    "dt_min = 1/10000.0\n",
    "dt_max = 1/10000.0\n",
    "event_size = 5000\n",
    "\n",
    "group_sizes = [1, 2, 3, 4, 5, 7, 10, 15, 20, 30, 40, 50, 60, 70]\n",
    "\n",
    "# Randomize order of group size\n",
    "np.random.shuffle(group_sizes)\n",
    "\n",
    "run_times = []\n",
    "\n",
    "# 300000 events (~30 seconds)\n",
    "n = 300000\n",
    "for gs in group_sizes:\n",
    "    run_times.append(run_sim(n, gs, dt_min, dt_max, event_size))\n",
    "\n",
    "plot_results(group_sizes, run_times, event_size, n)"
   ]
  },
  {
   "cell_type": "markdown",
   "metadata": {},
   "source": [
    "### Does decreasing event size improve? \n",
    "Or is it the frequency of events? Trying different event sizes with group size=1 while holding freq constant:"
   ]
  },
  {
   "cell_type": "code",
   "execution_count": 13,
   "metadata": {},
   "outputs": [],
   "source": [
    "def plot_results_es(event_sizes, run_times, n):\n",
    "    bandwidths = (n) / np.array(run_times)\n",
    "    \n",
    "    plot(event_sizes, bandwidths, 'b.')\n",
    "    title(\"Events per Second vs Event Size\")\n",
    "    xlabel(\"Event size (Num 16 Bit Words)\")\n",
    "    ylabel(\"Events per Second\")\n",
    "    show()"
   ]
  },
  {
   "cell_type": "code",
   "execution_count": 14,
   "metadata": {},
   "outputs": [
    {
     "data": {
      "image/png": "[encoded data removed]",
      "text/plain": [
       "<Figure size 432x288 with 1 Axes>"
      ]
     },
     "metadata": {
      "needs_background": "light"
     },
     "output_type": "display_data"
    }
   ],
   "source": [
    "# Intitially test with constant dt\n",
    "dt_min = 1/10000.0\n",
    "dt_max = 1/10000.0\n",
    "group_size = 1\n",
    "\n",
    "event_sizes = [1, 100, 250, 500, 750, 1000, 1500, 2000, 3000, 4000, 5000]\n",
    "\n",
    "# Randomize order of group size\n",
    "np.random.shuffle(event_sizes)\n",
    "\n",
    "run_times = []\n",
    "\n",
    "# 150000 events (~15 seconds)\n",
    "n = 150000\n",
    "for es in event_sizes:\n",
    "    run_times.append(run_sim(n, group_size, dt_min, dt_max, es))\n",
    "\n",
    "plot_results_es(event_sizes, run_times, n)"
   ]
  }
 ],
 "metadata": {
  "kernelspec": {
   "display_name": "Python 3",
   "language": "python",
   "name": "python3"
  },
  "language_info": {
   "codemirror_mode": {
    "name": "ipython",
    "version": 3
   },
   "file_extension": ".py",
   "mimetype": "text/x-python",
   "name": "python",
   "nbconvert_exporter": "python",
   "pygments_lexer": "ipython3",
   "version": "3.7.1"
  }
 },
 "nbformat": 4,
 "nbformat_minor": 2
}
